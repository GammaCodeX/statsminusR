{
 "metadata": {
  "name": "Hypotese"
 }, 
 "nbformat": 2, 
 "worksheets": [
  {
   "cells": [
    {
     "cell_type": "code", 
     "collapsed": false, 
     "input": [
      "%pylab inline"
     ], 
     "language": "python", 
     "outputs": [
      {
       "output_type": "stream", 
       "stream": "stdout", 
       "text": [
        "", 
        "Welcome to pylab, a matplotlib-based Python environment [backend: module://IPython.zmq.pylab.backend_inline].", 
        "For more information, type 'help(pylab)'."
       ]
      }
     ], 
     "prompt_number": 2
    }, 
    {
     "cell_type": "code", 
     "collapsed": true, 
     "input": [
      "import scipy.stats as stats", 
      "import numpy as np"
     ], 
     "language": "python", 
     "outputs": [], 
     "prompt_number": 3
    }, 
    {
     "cell_type": "markdown", 
     "source": [
      "Fejl typeI: Accepter H0, n\u00e5r H0 er falsk.", 
      "", 
      "Fejl typeII: Forkast H0, n\u00e5r H0 er sand."
     ]
    }, 
    {
     "cell_type": "markdown", 
     "source": [
      "Testst\u00f8rrelse z = (X - u0) / (sigma/sqrt(n))", 
      "n = z*sigma/(X-u0)", 
      "X = gennemsnit af stikpr\u00f8ve", 
      "u0 t\u00e6stv\u00e6rdi", 
      "sigma= spredning (forventet / givet i opgaven)", 
      "n stikpr\u00f8vest\u00f8rrelse", 
      "", 
      "Bem\u00e6rk: testst\u00f8rrelsen er normaliseret ud af data.", 
      "", 
      "Tests p-v\u00e6rdi m\u00e5ler data's afvigelser fra h0", 
      "", 
      "Ved hypotesetest af en midelv\u00e6rdi for data der antages normaltfordet og sigma er kendt f\u00e5s p-v\u00e6rdien for testst\u00f8rrelsen Z ved opslag i normalfordelingen.", 
      "", 
      "Omvendt kan udregnes antal fors\u00f8g der er brug for for at f\u00e5 et givet konfidensniveau ved:", 
      "", 
      "n = (z(a/2) * sigma / E)\u00b2", 
      "", 
      "Hvor E er (X-u0) - alts\u00e5 forsk\u00e6llen p\u00e5 det observerede og forventede gennemsnit"
     ]
    }, 
    {
     "cell_type": "markdown", 
     "source": []
    }, 
    {
     "cell_type": "markdown", 
     "source": [
      "Eksempel: En producent producerer sk\u00e6rme. Gennemsnitlig forbrug: 83W med varians: (4W)\u00b2", 
      "", 
      "En forbrugergruppe vil afpr\u00f8ve den p\u00e5stand.", 
      "", 
      "H0: \u00b5 = 83", 
      "H1: \u00b5!= 83", 
      "", 
      "Der v\u00e6lges signifikans af type1 fejl p\u00e5 1% (alfa = 0.01)", 
      "", 
      "Der udf\u00f8res nu 12 m\u00e5linger:", 
      "", 
      "82 86 84 84 92 83 93 80 83 84 82 86", 
      "", 
      "Midelv\u00e6rdi = 84.92", 
      "", 
      "step1: Beregn testst\u00f8rrelse:", 
      "", 
      "Z = (84.92 - 83)/(4*sqrt(12))"
     ]
    }, 
    {
     "cell_type": "code", 
     "collapsed": false, 
     "input": [
      "z=(84.92 - 83)/(4/sqrt(12))", 
      "z"
     ], 
     "language": "python", 
     "outputs": [
      {
       "output_type": "pyout", 
       "prompt_number": 4, 
       "text": [
        "1.6627687752661235"
       ]
      }
     ], 
     "prompt_number": 4
    }, 
    {
     "cell_type": "markdown", 
     "source": [
      "p = Z~N(0,1\u00b2)"
     ]
    }, 
    {
     "cell_type": "code", 
     "collapsed": false, 
     "input": [
      "1-stats.norm.cdf(z)"
     ], 
     "language": "python", 
     "outputs": [
      {
       "output_type": "pyout", 
       "prompt_number": 5, 
       "text": [
        "0.048179364611562026"
       ]
      }
     ], 
     "prompt_number": 5
    }, 
    {
     "cell_type": "markdown", 
     "source": [
      "Da dette er over 0.01 accepteres H0. Var signifikansen 5% ville H0 blive forkastet.", 
      "", 
      "Brug s over sigma hvis sigma er ukendt. Brug t over norm hvis datas\u00e6ttet ogs\u00e5 er lille", 
      "", 
      "Alternativt: Kritisk v\u00e6rdi: Er testen under den kritiske v\u00e6rdi?"
     ]
    }, 
    {
     "cell_type": "code", 
     "collapsed": false, 
     "input": [
      "stats.norm.ppf(.99)"
     ], 
     "language": "python", 
     "outputs": [
      {
       "output_type": "pyout", 
       "prompt_number": 6, 
       "text": [
        "2.3263478740408408"
       ]
      }
     ], 
     "prompt_number": 6
    }, 
    {
     "cell_type": "markdown", 
     "source": [
      "1.66 er mindre end 2.32. H0 accepteres"
     ]
    }, 
    {
     "cell_type": "markdown", 
     "source": [
      "Kritiske v\u00e6rdier for 5% sig (vigtige tal): \u00b11.645 for ensidet, og \u00b11.96 for tosidet"
     ]
    }, 
    {
     "cell_type": "code", 
     "collapsed": false, 
     "input": [
      "stats.t.ppf(0.95,7)"
     ], 
     "language": "python", 
     "outputs": [
      {
       "output_type": "pyout", 
       "prompt_number": 7, 
       "text": [
        "1.8945786050613052"
       ]
      }
     ], 
     "prompt_number": 7
    }, 
    {
     "cell_type": "code", 
     "collapsed": false, 
     "input": [
      "1-stats.t.cdf(0.44,7)"
     ], 
     "language": "python", 
     "outputs": [
      {
       "output_type": "pyout", 
       "prompt_number": 8, 
       "text": [
        "0.33660116831679332"
       ]
      }
     ], 
     "prompt_number": 8
    }, 
    {
     "cell_type": "markdown", 
     "source": [
      "For 2 genenmsnit:", 
      "", 
      "Z=((x1-x2)-delta)/sqrt(sig1\u00b2/n1 + sig2\u00b2/n2)", 
      "", 
      "Brug s over sigma og T over norm som altid. Graden er n1+n2-2", 
      "", 
      "Antages at spredning er den samme beregnes", 
      "", 
      "sp= sqrt(((n1-1)*s1**2 + (n2-1)*s2**2)/(n1+n2-2))", 
      "", 
      "eller brug zhe dirty hax (virker for arrays af SAMME l\u00e6ngde:", 
      "", 
      "np.std(np.concatenate((a-x,b-y)))", 
      "", 
      "p = norm.ppf(Z)"
     ]
    }, 
    {
     "cell_type": "code", 
     "collapsed": false, 
     "input": [
      "n1 = 9", 
      "x1 = 1.93", 
      "s1 = 0.45", 
      "", 
      "n2 = 9", 
      "x2 = 1.49", 
      "s2 = 0.58", 
      "", 
      "Z=((x1-x2))/sqrt(s1**2/n1 + s2**2/n2)", 
      "", 
      "p=1-stats.t.cdf(Z,n1+n2-2)", 
      "print(p)"
     ], 
     "language": "python", 
     "outputs": [
      {
       "output_type": "stream", 
       "stream": "stdout", 
       "text": [
        "0.0455254655783"
       ]
      }
     ], 
     "prompt_number": 19
    }, 
    {
     "cell_type": "code", 
     "collapsed": false, 
     "input": [
      "stats.norm.cdf(Z)"
     ], 
     "language": "python", 
     "outputs": [
      {
       "output_type": "pyout", 
       "prompt_number": 12, 
       "text": [
        "0.96392138628021184"
       ]
      }
     ], 
     "prompt_number": 12
    }, 
    {
     "cell_type": "code", 
     "collapsed": false, 
     "input": [
      "stats.norm.ppf(.975,x3,s3)"
     ], 
     "language": "python", 
     "outputs": [
      {
       "output_type": "pyout", 
       "prompt_number": 13, 
       "text": [
        "0.99880580985484757"
       ]
      }
     ], 
     "prompt_number": 13
    }, 
    {
     "cell_type": "code", 
     "collapsed": false, 
     "input": [
      "stats.norm.ppf(.025,x3,s3)"
     ], 
     "language": "python", 
     "outputs": [
      {
       "output_type": "pyout", 
       "prompt_number": 14, 
       "text": [
        "-1.8788058098548479"
       ]
      }
     ], 
     "prompt_number": 14
    }, 
    {
     "cell_type": "code", 
     "collapsed": false, 
     "input": [
      "a = np.array([71.,75.,65.,69.,73.,66.,68.,71.,74.,68.])", 
      "b = np.array([72.,77.,84.,78.,69.,70.,77.,73.,65.,75.])", 
      "", 
      "x = np.mean(a)", 
      "y = np.mean(b)", 
      "", 
      "s1 = np.std(a)", 
      "s2 = np.std(b)", 
      "", 
      "print(s1)", 
      "print(s2)", 
      "", 
      "sp = sqrt(((a.size-1)*s1**2 + (b.size-1)*s2**2)/(a.size+b.size-2))", 
      "print(sp)", 
      "", 
      "t=(x-y)/sqrt(sp**2/a.size + sp**2/b.size)", 
      "print(t)", 
      "stats.t.cdf(t,a.size+b.size-2)"
     ], 
     "language": "python", 
     "outputs": [
      {
       "output_type": "stream", 
       "stream": "stdout", 
       "text": [
        "3.19374388453", 
        "5.11859355683", 
        "4.26614580154", 
        "-2.09656967344"
       ]
      }, 
      {
       "output_type": "pyout", 
       "prompt_number": 15, 
       "text": [
        "0.025214026933524033"
       ]
      }
     ], 
     "prompt_number": 15
    }, 
    {
     "cell_type": "code", 
     "collapsed": false, 
     "input": [
      "a = np.array([59,68,44,71,63,46,69,54,48])", 
      "b = np.array([50,36,62,52,70,41])", 
      "", 
      "x = np.mean(a)", 
      "y = np.mean(b)", 
      "", 
      "s1 = np.std(a)", 
      "s2 = np.std(b)", 
      "", 
      "print(s1)", 
      "print(s2)", 
      "", 
      "sp = sqrt(((a.size-1)*s1**2 + (b.size-1)*s2**2)/(a.size+b.size-2))", 
      "print(sp)", 
      "", 
      "t=(x-y)/sqrt(sp**2/a.size + sp**2/b.size)", 
      "print(t)", 
      "stats.t.cdf(t,a.size+b.size-2)"
     ], 
     "language": "python", 
     "outputs": [
      {
       "output_type": "stream", 
       "stream": "stdout", 
       "text": [
        "9.84321537349", 
        "11.5818344354", 
        "10.5458907621", 
        "1.10947738855"
       ]
      }, 
      {
       "output_type": "pyout", 
       "prompt_number": 16, 
       "text": [
        "0.85633664465490822"
       ]
      }
     ], 
     "prompt_number": 16
    }, 
    {
     "cell_type": "code", 
     "collapsed": false, 
     "input": [
      "a = np.array([209,178,169,212,180,192,158,180,170,153,183,165,201,179,243,144])", 
      "b = np.array([196,171,170,207,177,190,159,180,164,152,179,162,199,173,231,140])", 
      "", 
      "c = np.array([13,7,-1,5,3,2,1,0,6,1,4,3,2,6,12,4])", 
      "", 
      "x = np.mean(c)", 
      "s = np.std(c)", 
      "", 
      "t = x / (s/sqrt(c.size))", 
      "print(t)", 
      "", 
      "stats.t.cdf(t,c.size-1)"
     ], 
     "language": "python", 
     "outputs": [
      {
       "output_type": "stream", 
       "stream": "stdout", 
       "text": [
        "4.47407152573"
       ]
      }, 
      {
       "output_type": "pyout", 
       "prompt_number": 17, 
       "text": [
        "0.99977711889882093"
       ]
      }
     ], 
     "prompt_number": 17
    }, 
    {
     "cell_type": "code", 
     "collapsed": false, 
     "input": [], 
     "language": "python", 
     "outputs": [], 
     "prompt_number": 17
    }, 
    {
     "cell_type": "code", 
     "collapsed": true, 
     "input": [], 
     "language": "python", 
     "outputs": [], 
     "prompt_number": 17
    }
   ]
  }
 ]
}