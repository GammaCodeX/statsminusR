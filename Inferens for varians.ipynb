{
 "metadata": {
  "name": "Inferens for varians"
 }, 
 "nbformat": 2, 
 "worksheets": [
  {
   "cells": [
    {
     "cell_type": "code", 
     "collapsed": false, 
     "input": [
      "%pylab inline"
     ], 
     "language": "python", 
     "outputs": [
      {
       "output_type": "stream", 
       "stream": "stdout", 
       "text": [
        "", 
        "Welcome to pylab, a matplotlib-based Python environment [backend: module://IPython.zmq.pylab.backend_inline].", 
        "For more information, type 'help(pylab)'."
       ]
      }
     ], 
     "prompt_number": 3
    }, 
    {
     "cell_type": "code", 
     "collapsed": true, 
     "input": [
      "import scipy.stats as st", 
      "import numpy as np"
     ], 
     "language": "python", 
     "outputs": [], 
     "prompt_number": 4
    }, 
    {
     "cell_type": "markdown", 
     "source": [
      "Ligesom ved alle andre test gives et interval, ikke et punktestimat. Dog vil intervallet (grundet formen p\u00e5 chi2 distributionen) ikke v\u00e6re symetrisk.", 
      "", 
      "(n-1)*s\u00b2/chi2.ppf(.025,n-1) til (n-1)*s\u00b2/chi2.ppf(.975,n-1)", 
      "", 
      "Hvor s er det beregnede punktestimat, og n-1 er antal frihedsgrader.", 
      "", 
      "Tag kvadratroden af variansen for at f\u00e5 standardafvigelsen (hur dur)"
     ]
    }, 
    {
     "cell_type": "markdown", 
     "source": [
      "Stikpr\u00f8vest\u00f8rrelse:", 
      "", 
      "chi\u00b2 = (n-1)*S**2/sig0**2", 
      "", 
      "Hvor sig0 er fra hypotesen, og S er std af stikpr\u00f8ven", 
      "", 
      "Kritisk v\u00e6rdi kan findes ved cdf, eller ppf af stikpr\u00f8vest\u00f8rrelsen kan give konfidensen"
     ]
    }, 
    {
     "cell_type": "markdown", 
     "source": [
      "Eksempel: Aktivt stof i tabletter m\u00e5 ikke have varians over 0.05\u00b2"
     ]
    }, 
    {
     "cell_type": "code", 
     "collapsed": false, 
     "input": [
      "sig = 0.05", 
      "", 
      "n = 20", 
      "", 
      "s = 0.07", 
      "", 
      "c2 = s**2*(n-1)/sig**2", 
      "print(c2)", 
      "", 
      "p=1-st.chi2.cdf(c2,n-1)", 
      "print(p)", 
      "", 
      "st.chi2.ppf(.95,19)"
     ], 
     "language": "python", 
     "outputs": [
      {
       "output_type": "stream", 
       "stream": "stdout", 
       "text": [
        "37.24", 
        "0.00740403444659"
       ]
      }, 
      {
       "output_type": "pyout", 
       "prompt_number": 5, 
       "text": [
        "30.143527205646155"
       ]
      }
     ], 
     "prompt_number": 5
    }, 
    {
     "cell_type": "markdown", 
     "source": [
      "Kritisk v\u00e6rdi: 30. V\u00e6rdi: 37. H0 er over den kritiske v\u00e6rdi og h0 kan afvises. P v\u00e6rdien er 0.007, dette er mindre en .05, og h0 kan forkastes."
     ]
    }, 
    {
     "cell_type": "markdown", 
     "source": [
      "For samme data: find 95% konfidensinterval"
     ]
    }, 
    {
     "cell_type": "code", 
     "collapsed": false, 
     "input": [
      "print(sqrt((n-1)*s**2/st.chi2.ppf(.975,n-1)))", 
      "print(\"til\")", 
      "print(sqrt((n-1)*s**2/st.chi2.ppf(.025,n-1)))"
     ], 
     "language": "python", 
     "outputs": [
      {
       "output_type": "stream", 
       "stream": "stdout", 
       "text": [
        "0.0532343276031", 
        "til", 
        "0.102240014528"
       ]
      }
     ], 
     "prompt_number": 6
    }, 
    {
     "cell_type": "markdown", 
     "source": [
      "lad S1\u00b2 og S2\u00b2 v\u00e6re varianser fra 2 stikpr\u00f8ver, fra universer med samme varians sig.", 
      "da vil", 
      "S1\u00b2/S2\u00b2 f\u00f8lge en F-fordeling"
     ]
    }, 
    {
     "cell_type": "markdown", 
     "source": [
      "Eksempel: pr\u00f8ver tages af \u00f8vre og nedre del af beholderen."
     ]
    }, 
    {
     "cell_type": "code", 
     "collapsed": false, 
     "input": [
      "n1 = 10", 
      "n2 = 12", 
      "", 
      "s1 = 0.03", 
      "s2 = 0.08", 
      "", 
      "a = 0.05", 
      "", 
      "f = s2**2/s1**2", 
      "print(f)", 
      "", 
      "P=st.f.cdf(f,n1-1,n2-1)", 
      "print(P)", 
      "", 
      "print(st.f.ppf(.025,n-1,n-2))", 
      "print(st.f.ppf(.975,n-1,n-2))"
     ], 
     "language": "python", 
     "outputs": [
      {
       "output_type": "stream", 
       "stream": "stdout", 
       "text": [
        "7.11111111111", 
        "0.998224809583", 
        "0.392818088995", 
        "2.57642489301"
       ]
      }
     ], 
     "prompt_number": 7
    }, 
    {
     "cell_type": "markdown", 
     "source": [
      "P er 0.99, hvilket er over 0.975. h0 forkastes, der er forsk\u00e6l p\u00e5 toppen og bunden af beholderen. F ligger desuden uden for intervallet 0.39 til 2.57. Specifikt er variansen i bunden markant st\u00f8rre"
     ]
    }, 
    {
     "cell_type": "markdown", 
     "source": [
      "Sammenlign 2 std:"
     ]
    }, 
    {
     "cell_type": "code", 
     "collapsed": false, 
     "input": [
      "SM = 0.58 #Den st\u00f8rre af standardafvigelserne", 
      "Sm = 0.45 #Den mindre af standardafvigelserne", 
      "", 
      "n1 = 9 #Frihedsgrader (st\u00f8rste std)", 
      "n2 = 9 #Frihedsgrader (mindste std)", 
      "", 
      "F = SM**2/Sm**2", 
      "print(\"F-v\u00e6rdi:\")", 
      "print(F)", 
      "", 
      "", 
      "p = 2* (1-st.f.cdf(F,n1-1,n2-1))", 
      "print(\"P-v\u00e6rdi:\")", 
      "print(p)"
     ], 
     "language": "python", 
     "outputs": [
      {
       "output_type": "stream", 
       "stream": "stdout", 
       "text": [
        "F-v\u00e6rdi:", 
        "1.6612345679", 
        "P-v\u00e6rdi:", 
        "0.488804752566"
       ]
      }
     ], 
     "prompt_number": 12
    }, 
    {
     "cell_type": "code", 
     "collapsed": false, 
     "input": [], 
     "language": "python", 
     "outputs": [
      {
       "output_type": "stream", 
       "stream": "stdout", 
       "text": [
        "[[ 18.  13.   3.]", 
        " [ 70.  35.  52.]", 
        " [ 22.  12.  25.]]", 
        "(34, 110)"
       ]
      }
     ], 
     "prompt_number": 17
    }, 
    {
     "cell_type": "code", 
     "collapsed": true, 
     "input": [], 
     "language": "python", 
     "outputs": []
    }
   ]
  }
 ]
}