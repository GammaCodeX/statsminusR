{
 "metadata": {
  "name": "Tango with the pandas"
 },
 "nbformat": 3,
 "nbformat_minor": 0,
 "worksheets": [
  {
   "cells": [
    {
     "cell_type": "heading",
     "level": 1,
     "metadata": {},
     "source": [
      "Tango with the pandas"
     ]
    },
    {
     "cell_type": "heading",
     "level": 3,
     "metadata": {},
     "source": [
      "The indev work of a few mad students."
     ]
    },
    {
     "cell_type": "markdown",
     "metadata": {},
     "source": [
      "<p>Welcome to the first revision of the statsminusR project, the (hopefully) first project in a range of notebooks, each with the intention of easying the transistion to using python for all the math and engineering stuff. We honestly don't know how far the capabilities of python reach, but the wonderful thing is, of course, that we DO know they'll reach further every month.</p>\n",
      "\n",
      "<p><i> A fair warning, we sometimes jut stuff down in danish, as the course we're taking at the Technical University of Denmark (DTU) is being taught in just that. We'll get around to translating it as soon as we can.</i></p>"
     ]
    },
    {
     "cell_type": "markdown",
     "metadata": {},
     "source": [
      "Okay, so let's get down to business. For this all to work, you should have installed on your system the following:\n",
      "<ul>\n",
      "    <li> Python </li>\n",
      "    <li> IPython </li>\n",
      "    <li> NumPy </li>\n",
      "    <li> SciPy </li>\n",
      "    <li> Matplotlib </li>\n",
      "    <li> Pandas </li>\n",
      "</ul>"
     ]
    },
    {
     "cell_type": "code",
     "collapsed": false,
     "input": [
      "%pylab inline"
     ],
     "language": "python",
     "metadata": {},
     "outputs": [
      {
       "output_type": "stream",
       "stream": "stdout",
       "text": [
        "\n",
        "Welcome to pylab, a matplotlib-based Python environment [backend: module://IPython.zmq.pylab.backend_inline].\n",
        "For more information, type 'help(pylab)'.\n"
       ]
      }
     ],
     "prompt_number": 1
    },
    {
     "cell_type": "code",
     "collapsed": false,
     "input": [
      "import pandas as pd\n",
      "import numpy as np\n",
      "import scipy as sp\n",
      "import scipy.special as spec\n",
      "import scipy.stats as st"
     ],
     "language": "python",
     "metadata": {},
     "outputs": [],
     "prompt_number": 2
    },
    {
     "cell_type": "raw",
     "metadata": {},
     "source": [
      "Stokastiske variabler:\n",
      " * Store bogstaver: X,Y,Z osv\n",
      " * Udfald af stokastiske variabler angives ved sm\u00e5: x,y,z osv\n",
      " * Vi skelner mellem diskrete og kontinuerte stokastiske variable\n",
      "   * Diskrete - heltal - ex. antal b\u00f8rn.\n",
      "   * Kontinuerte - det andet g\u00f8gl."
     ]
    },
    {
     "cell_type": "heading",
     "level": 1,
     "metadata": {},
     "source": [
      "Diskrete stokastiske Variable:"
     ]
    },
    {
     "cell_type": "raw",
     "metadata": {},
     "source": [
      "Hvis der findes n lige sandsynlige udfald, hvorfra et m\u00e5 ske,\n",
      "og h\u00e6ndelse s betegnes som 'succes' s\u00e5 er sandsynligheden for succes\n",
      "givet ved: s/n"
     ]
    },
    {
     "cell_type": "raw",
     "metadata": {},
     "source": [
      "T\u00e6thedsfunktionen kan skrives som f(x) = P(X = x) \n",
      "- sandsynligheden for, at en stokastisk variable har udkastet s.\n",
      "\n",
      "da skal f(x) > 0 for x in S\n",
      "f(x) = 0 for x not in S\n",
      "\n",
      "\n",
      "Fordelingsfunktionen for en stokastisk variabel betegnes F(x).\n",
      "Fordelingsfunktionen er den kumulerede t\u00e6thedsfunktion:\n",
      "  F(x) = P(X <= x)"
     ]
    },
    {
     "cell_type": "heading",
     "level": 1,
     "metadata": {},
     "source": [
      "Konkrete Statistiske fordelinger"
     ]
    },
    {
     "cell_type": "heading",
     "level": 4,
     "metadata": {},
     "source": [
      "Binomial fordeling"
     ]
    },
    {
     "cell_type": "markdown",
     "metadata": {},
     "source": [
      "<ul>\n",
      "    <li>There has to be <i>n</i> independant trials, where <i>n</i> is a constant integer.</li>\n",
      "    <li>Each trial can produce either succes or failure</li>\n",
      "    <li>The probability of succes is <i>p</i>, and the probability of failure <i>1-p</i>. <i>p</i> is constant for all trials.</li>\n",
      "</ul>\n",
      "\n",
      "X:           Amount of succes' in <i>n</i> trials.\n",
      "\n",
      "binom(n,x):  Ways to chose <i>x</i> from <i>n</i>. "
     ]
    },
    {
     "cell_type": "markdown",
     "metadata": {},
     "source": [
      "Ex:\n",
      "\n",
      "We wanna know the probability, that out of 50 people, 4 are colorblind. \n",
      "The probability of being colorblind is 4%.\n",
      "\n",
      "X: Amount of colorblind people.\n",
      "\n",
      "P(X = 4)"
     ]
    },
    {
     "cell_type": "code",
     "collapsed": false,
     "input": [
      "x = 4 \n",
      "n = 50\n",
      "p = .04\n",
      "\n",
      "spec.binom(n,x)*pow(p,x)*pow((1-p),(n-x)) #The sneaky thing about programming is having both an example, and the actual formula."
     ],
     "language": "python",
     "metadata": {},
     "outputs": [
      {
       "output_type": "pyout",
       "prompt_number": 7,
       "text": [
        "0.090159319083132725"
       ]
      }
     ],
     "prompt_number": 7
    },
    {
     "cell_type": "markdown",
     "metadata": {},
     "source": [
      "So a little over 9% chance. Huh."
     ]
    },
    {
     "cell_type": "heading",
     "level": 4,
     "metadata": {},
     "source": [
      "Den hypergeometriske fordeling"
     ]
    },
    {
     "cell_type": "raw",
     "metadata": {},
     "source": [
      "* En population af st\u00f8rrelse N\n",
      "* Vi tager en stikpr\u00f8ve af st\u00f8rrelse n\n",
      "* Der er a defekte i populationen\n",
      "* Der er N - a ikke-defekte i populationen\n",
      "\n",
      "Den stokastiske variabel, X, er hypergeometrisk fordelt.\n",
      "\n",
      "T\u00e6theden for den hypergeometriske fordeling:\n",
      "\n",
      "f(x) = P(X = x) = (binom(a,x)*binom(N-a,n-x))/binom(N,n)\n",
      "\n",
      "Ved stor population kan man snyde med binomialfordeling."
     ]
    },
    {
     "cell_type": "raw",
     "metadata": {},
     "source": [
      "Eks:\n",
      "\n",
      "tag 3 hardisks fra 15 med 5 defekte\n",
      "\n",
      "f(1) = P(X = x)\n",
      "N = 15\n",
      "a = 5\n",
      "n = 3\n",
      "\n",
      "f(1) = (binom(5,1)*binom(10,2))/binom(15,3)\n",
      "\n",
      "havde det v\u00e6re 'h\u00f8jest 1' havde man lagt f(0) til."
     ]
    },
    {
     "cell_type": "code",
     "collapsed": false,
     "input": [
      "chance = (spec.binom(5,1)*spec.binom(10,2))/spec.binom(15,3)\n",
      "chance"
     ],
     "language": "python",
     "metadata": {},
     "outputs": [
      {
       "output_type": "pyout",
       "prompt_number": 30,
       "text": [
        "0.49450549450549453"
       ]
      }
     ],
     "prompt_number": 30
    },
    {
     "cell_type": "heading",
     "level": 4,
     "metadata": {},
     "source": [
      "Poisson fordelingen"
     ]
    },
    {
     "cell_type": "raw",
     "metadata": {},
     "source": [
      "* Poisson fordelingen anvendes ofte som en fordeling (model) for t\u00e6lletal, hvor der ikk er nogen naturlig \u00f8vre gr\u00e6nse.\n",
      "* Poisson fordelingen kan ofte karakteriseres som intensitet, dvs p\u00e5 formen antal/enhed\n",
      "* Parameteren lambda angiver intensiteten i poisson fordelingen"
     ]
    },
    {
     "cell_type": "code",
     "collapsed": false,
     "input": [],
     "language": "python",
     "metadata": {},
     "outputs": []
    }
   ],
   "metadata": {}
  }
 ]
}