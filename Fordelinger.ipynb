{
 "metadata": {
  "name": "Fordelinger"
 }, 
 "nbformat": 2, 
 "worksheets": [
  {
   "cells": [
    {
     "cell_type": "code", 
     "collapsed": false, 
     "input": [
      "%pylab inline"
     ], 
     "language": "python", 
     "outputs": [
      {
       "output_type": "stream", 
       "stream": "stdout", 
       "text": [
        "", 
        "Welcome to pylab, a matplotlib-based Python environment [backend: module://IPython.zmq.pylab.backend_inline].", 
        "For more information, type 'help(pylab)'."
       ]
      }
     ], 
     "prompt_number": 2
    }, 
    {
     "cell_type": "code", 
     "collapsed": true, 
     "input": [
      "import pandas as pa", 
      "import numpy as np", 
      "import scipy as sp", 
      "import scipy.special as spec", 
      "import scipy.stats as stats"
     ], 
     "language": "python", 
     "outputs": [], 
     "prompt_number": 3
    }, 
    {
     "cell_type": "markdown", 
     "source": [
      "Binomial fordeling: Vi siger at en stokastis variabel X er binomialt fordelt", 
      "X~b(x;n,p)", 
      "", 
      "Tr\u00e6k x succeser ud af n mulige, hvor sandsynligheden for succes er p (p er float)", 
      "", 
      "T\u00e6thedsfunktionen for binomialfordelinger:", 
      "f(x) = binom(n,x)*p^x(1-p)^(n-x)", 
      "", 
      "Varians: sum(s,(x-u)\u00b2*f(x))", 
      "hvor \u00b5 er gennemsnittet", 
      "", 
      "p er sandsynligheden for success", 
      "", 
      "binom(n,x) = n!/(x!(n-x)!)", 
      "", 
      "Binomial fordeling benyttes til sandsynlighed af stikpr\u00f8ver med tilbagel\u00e6gning"
     ]
    }, 
    {
     "cell_type": "markdown", 
     "source": [
      "Til fordelinger i SciPy:", 
      "Brug scipy.stats.[fordelingstype].[pmf/pdf] for t\u00e6thedsfunktionen, og cdf for kumuleret"
     ]
    }, 
    {
     "cell_type": "code", 
     "collapsed": false, 
     "input": [
      "spec.binom(10,5)"
     ], 
     "language": "python", 
     "outputs": [
      {
       "output_type": "pyout", 
       "prompt_number": 4, 
       "text": [
        "252.00000000000003"
       ]
      }
     ], 
     "prompt_number": 4
    }, 
    {
     "cell_type": "markdown", 
     "source": [
      "Ovenfor: permutationer af tr\u00e6k 5 ud af 10"
     ]
    }, 
    {
     "cell_type": "code", 
     "collapsed": false, 
     "input": [
      "stats.binom.pmf(0,6,0.3)"
     ], 
     "language": "python", 
     "outputs": [
      {
       "output_type": "pyout", 
       "prompt_number": 5, 
       "text": [
        "0.11764899999999995"
       ]
      }
     ], 
     "prompt_number": 5
    }, 
    {
     "cell_type": "markdown", 
     "source": [
      "Ovenfor: tr\u00e6k 0 ud af 6 ved chance 0.3"
     ]
    }, 
    {
     "cell_type": "code", 
     "collapsed": false, 
     "input": [
      "stats.binom.cdf(2,6,0.3)"
     ], 
     "language": "python", 
     "outputs": [
      {
       "output_type": "pyout", 
       "prompt_number": 6, 
       "text": [
        "0.74430999999999992"
       ]
      }
     ], 
     "prompt_number": 6
    }, 
    {
     "cell_type": "markdown", 
     "source": [
      "Ovenfor: tr\u00e6k h\u00f8jest 2 ud af 6 ved chance 0.3 (med tilbagel\u00e6gning)"
     ]
    }, 
    {
     "cell_type": "markdown", 
     "source": [
      "Hypergeometrisk fordeling:", 
      "Vi siger at en  stokastisk variabel X er hypergeometrisk fordelt X ~ h(x,n,a,N)", 
      "", 
      "hvor: x er antal udtr\u00e6k, n er stikpr\u00f8vens st\u00f8rrelse a er antal defekte i populationen N", 
      "", 
      "Chancen for at f\u00e5 x succes i n tr\u00e6k n\u00e5r der er a succes i m\u00e6ngden N", 
      "", 
      "f(x) = (binom(a,x)*binom(N-a,n-x))/binom(N,n)", 
      "", 
      "stats.hypergeom.[cdf/pmf] (x,N,n,a)"
     ]
    }, 
    {
     "cell_type": "code", 
     "collapsed": false, 
     "input": [
      "stats.hypergeom.cdf(3,15,5,5)"
     ], 
     "language": "python", 
     "outputs": [
      {
       "output_type": "pyout", 
       "prompt_number": 7, 
       "text": [
        "0.98301698301698459"
       ]
      }
     ], 
     "prompt_number": 7
    }, 
    {
     "cell_type": "markdown", 
     "source": [
      "Ovenfor: chancen for at tr\u00e6kke 3 defekte ved udtr\u00e6k p\u00e5 5 i en m\u00e6ngde med 5 defekte og 10 virkende chips (15 i alt)"
     ]
    }, 
    {
     "cell_type": "markdown", 
     "source": [
      "Poissonfordeling", 
      "", 
      "poisson fordeling kan ofte karaktiseres som intensitet dvs antal/enhed", 
      "", 
      "Parameteren Lambda angiver intensiteten i poisson fordeling", 
      "", 
      "f(x) = (lambda^x/x!)*exp(-lambda)"
     ]
    }, 
    {
     "cell_type": "code", 
     "collapsed": false, 
     "input": [
      "stats.poisson.cdf(2,0.3)"
     ], 
     "language": "python", 
     "outputs": [
      {
       "output_type": "pyout", 
       "prompt_number": 8, 
       "text": [
        "0.9964005068169105"
       ]
      }
     ], 
     "prompt_number": 8
    }, 
    {
     "cell_type": "markdown", 
     "source": [
      "Ovenfor: intensitet lambda=2 ved rate p=0.3 (dvs mindst 2 patienter)", 
      "nedenfor: pr\u00e6cis 2 patienter"
     ]
    }, 
    {
     "cell_type": "code", 
     "collapsed": false, 
     "input": [
      "stats.poisson.pmf(2,0.3)"
     ], 
     "language": "python", 
     "outputs": [
      {
       "output_type": "pyout", 
       "prompt_number": 9, 
       "text": [
        "0.033336819930677296"
       ]
      }
     ], 
     "prompt_number": 9
    }, 
    {
     "cell_type": "markdown", 
     "source": [
      "Normalfordeling", 
      "stats.norm", 
      "", 
      "Parametre: (Mean,[Standard Deviation=1])"
     ]
    }, 
    {
     "cell_type": "markdown", 
     "source": [
      "Eksponentialfordeling", 
      "stats.expon", 
      "", 
      "Parametre: (x,[mean=1])", 
      "", 
      "Bem\u00e6rk: Sammenlignet med poisson, beta = 1/lambda"
     ]
    }, 
    {
     "cell_type": "code", 
     "collapsed": false, 
     "input": [
      "stats.expon.pdf(2)"
     ], 
     "language": "python", 
     "outputs": [
      {
       "output_type": "pyout", 
       "prompt_number": 10, 
       "text": [
        "0.1353352832366127"
       ]
      }
     ], 
     "prompt_number": 10
    }, 
    {
     "cell_type": "code", 
     "collapsed": false, 
     "input": [
      "stats.poisson.pmf(0,1)"
     ], 
     "language": "python", 
     "outputs": [
      {
       "output_type": "pyout", 
       "prompt_number": 11, 
       "text": [
        "0.36787944117144233"
       ]
      }
     ], 
     "prompt_number": 11
    }, 
    {
     "cell_type": "code", 
     "collapsed": false, 
     "input": [
      "stats.poisson.cdf(0,1)"
     ], 
     "language": "python", 
     "outputs": [
      {
       "output_type": "pyout", 
       "prompt_number": 12, 
       "text": [
        "0.36787944117144233"
       ]
      }
     ], 
     "prompt_number": 12
    }, 
    {
     "cell_type": "markdown", 
     "source": [
      "E(a*X+b) = a*E(X)+b", 
      "var(a*X+b) = a\u00b2*var(X)"
     ]
    }, 
    {
     "cell_type": "code", 
     "collapsed": false, 
     "input": [
      "100*144*.05"
     ], 
     "language": "python", 
     "outputs": [
      {
       "output_type": "pyout", 
       "prompt_number": 13, 
       "text": [
        "720.0"
       ]
      }
     ], 
     "prompt_number": 13
    }, 
    {
     "cell_type": "markdown", 
     "source": [
      "100 pakker \u00e1 144 \u00e6g med sandsynlighed 5% for salmonella.", 
      "Hvad er midelv\u00e6rdi (ovenfor) og varians (nedenunder)", 
      "", 
      "Til nederste beregning benyttes at rho = n*p*(1-p)"
     ]
    }, 
    {
     "cell_type": "code", 
     "collapsed": false, 
     "input": [
      "1-stats.poisson.cdf(11,10,.5)"
     ], 
     "language": "python", 
     "outputs": [
      {
       "output_type": "pyout", 
       "prompt_number": 14, 
       "text": [
        "0.4169602498070144"
       ]
      }
     ], 
     "prompt_number": 14
    }, 
    {
     "cell_type": "code", 
     "collapsed": false, 
     "input": [
      "stats.norm.cdf(4,0)"
     ], 
     "language": "python", 
     "outputs": [
      {
       "output_type": "pyout", 
       "prompt_number": 15, 
       "text": [
        "0.99996832875816688"
       ]
      }
     ], 
     "prompt_number": 15
    }, 
    {
     "cell_type": "markdown", 
     "source": [
      "lognormal", 
      "", 
      "formel: f(x) = 1/(sqrt(2Pi)*b*x)*exp(-(log(x)-a)**2)/(2*b**2))", 
      "", 
      "-- mean: \u00b5 = exp(a+b\u00b2/2)", 
      "", 
      "-- varians: sigma = exp(2a+b\u00b2)*(exp(b\u00b2)-1)", 
      "", 
      "I python: stats.lognorm.pdf/cdf(x,a,b) ... men a og b er ikke som ovenfor... mere resarch needed"
     ]
    }, 
    {
     "cell_type": "code", 
     "collapsed": false, 
     "input": [
      "mean=11854.35", 
      "stddev=16292.59", 
      "dist=stats.lognorm([stddev],loc=mean)", 
      "1-dist.cdf(200)"
     ], 
     "language": "python", 
     "outputs": [
      {
       "output_type": "pyout", 
       "prompt_number": 16, 
       "text": [
        "array([ 1.])"
       ]
      }
     ], 
     "prompt_number": 16
    }, 
    {
     "cell_type": "markdown", 
     "source": [
      "ovenfor virker ikke"
     ]
    }, 
    {
     "cell_type": "markdown", 
     "source": [
      "Chi\u00b2 fordeling ", 
      "", 
      "Chi\u00b2 = (n-1)*s\u00b2/sigma\u00b2", 
      "", 
      "I python gives parameteren for frihedsgrader som i t distributionen", 
      "", 
      "stats.chi2(n-1)"
     ]
    }, 
    {
     "cell_type": "code", 
     "collapsed": false, 
     "input": [
      "stats.chi2.cdf(5,4)"
     ], 
     "language": "python", 
     "outputs": [
      {
       "output_type": "pyout", 
       "prompt_number": 17, 
       "text": [
        "0.71270250481635422"
       ]
      }
     ], 
     "prompt_number": 17
    }, 
    {
     "cell_type": "code", 
     "collapsed": false, 
     "input": [
      "stats.chi2.ppf(0.712,4)"
     ], 
     "language": "python", 
     "outputs": [
      {
       "output_type": "pyout", 
       "prompt_number": 18, 
       "text": [
        "4.9931604111143519"
       ]
      }
     ], 
     "prompt_number": 18
    }, 
    {
     "cell_type": "markdown", 
     "source": [
      "F fordeling", 
      "", 
      "F", 
      "", 
      "I python gives parametrene for frihedsgrader af de 2 stikpr\u00f8ver", 
      "", 
      "stats.f(n1-1,n2-1)"
     ]
    }
   ]
  }
 ]
}