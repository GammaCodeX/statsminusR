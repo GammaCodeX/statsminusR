{
 "metadata": {
  "name": "Variansanalyse - Forsk\u00e6l p\u00e5 midelv\u00e6rdier"
 }, 
 "nbformat": 2, 
 "worksheets": [
  {
   "cells": [
    {
     "cell_type": "code", 
     "collapsed": false, 
     "input": [
      "%pylab inline", 
      "import scipy.stats as st", 
      "import numpy as np"
     ], 
     "language": "python", 
     "outputs": [
      {
       "output_type": "stream", 
       "stream": "stdout", 
       "text": [
        "", 
        "Welcome to pylab, a matplotlib-based Python environment [backend: module://IPython.zmq.pylab.backend_inline].", 
        "For more information, type 'help(pylab)'."
       ]
      }
     ], 
     "prompt_number": 36
    }, 
    {
     "cell_type": "markdown", 
     "source": [
      "Har k>2 grupper samme gennemsnit?", 
      "", 
      "Yij = u + ai + eij", 
      "", 
      "Det antages at eij er normalfordelt (mean 0 og spredning sigma)", 
      "", 
      "Summen af ai = 0", 
      "", 
      "Nulhypotese: midelv\u00e6rdierne er ens. a1 = a2 = ... = an = 0", 
      "", 
      "Alternativ: mindst to midelv\u00e6rdier er forsk\u00e6llige. ak != 0", 
      "", 
      "Som altid er der et signifikansniveau, der normalvis er 5%"
     ]
    }, 
    {
     "cell_type": "markdown", 
     "source": [
      "Manuel beregning:", 
      "", 
      "SST = SS(Tr) + SSE", 
      "", 
      "Den totale variation SST kan opdeles i 2 dele SS(Tr) (Model) og SSE (Residual)", 
      "", 
      "SST = sum(yij^2 - C)", 
      "", 
      "SS(Tr) = sum(Ti^2/ni-C)", 
      "", 
      "hvor C=T\u00b2/n Ti = sum(yij) T=sum(Ti)"
     ]
    }, 
    {
     "cell_type": "markdown", 
     "source": [
      "Testst\u00f8rrelse:", 
      "", 
      "F = (SS(Tr)/(k-1)) / (SSE/(N-k))", 
      "", 
      "F\u00f8lger en F fordeling F(k-1,N-k)"
     ]
    }, 
    {
     "cell_type": "code", 
     "collapsed": false, 
     "input": [
      "#one way:", 
      "", 
      "data = np.array(((85.,16,9,34),(51.,-7,22),(-15.,1,-10,-12,11),(101.,15)))", 
      "", 
      "N=sum(map(size,data)) # Antal datafelter", 
      "k = size(map(sum,data)) #sum brugt til kollaps! - antal grupper", 
      "", 
      "sums = np.array(map(sum,data))", 
      "sumsq = map(sum,map(np.square,data))", 
      "", 
      "ns = map(size,data)", 
      "", 
      "C=(sum(sums)**2)/N", 
      "", 
      "SST = sum(sumsq)-C", 
      "SSTr = sum(np.divide(sums**2,ns))-C", 
      "", 
      "SSE = SST-SSTr", 
      "", 
      "F = (SSTr/(k-1.)) / (SSE/(N-k))", 
      "print(\"F-v\u00e6rd\")", 
      "print(F)", 
      "", 
      "", 
      "print(\"frihedsgrader:\")", 
      "print(k-1,N-k)", 
      "", 
      "konf=0.99", 
      "", 
      "", 
      "p = 1- st.f.cdf(F,k-1,N-k)", 
      "print(\"P-v\u00e6rd\")", 
      "print(p)", 
      "print(\"forkast 0?\")", 
      "print(p<1-(konf))", 
      "", 
      "krit=st.f.ppf(konf,k-1,N-k)", 
      "", 
      "", 
      "", 
      "print(\"Testst\u00f8rrelse vs Kritisk v\u00e6rd\")", 
      "print(F,krit)"
     ], 
     "language": "python", 
     "outputs": [
      {
       "output_type": "stream", 
       "stream": "stdout", 
       "text": [
        "F-v\u00e6rd", 
        "2.49378109453", 
        "frihedsgrader:", 
        "(3, 10)", 
        "P-v\u00e6rd", 
        "0.119616750751", 
        "forkast 0?", 
        "False", 
        "Testst\u00f8rrelse vs Kritisk v\u00e6rd", 
        "(2.4937810945273631, 6.5523125575152088)"
       ]
      }
     ], 
     "prompt_number": 37
    }, 
    {
     "cell_type": "code", 
     "collapsed": false, 
     "input": [
      "#two way:", 
      "", 
      "data = np.array(( (23.8,7.6,15.4,30.6,4.2), (19.2,6.8,13.2,22.5,3.9), (20.9,5.9,14.0,27.1,3.0)  ))", 
      "", 
      "", 
      "datat = np.transpose(data)", 
      "", 
      "a = size(map(sum,data)) #Antal treatments", 
      "b = size(map(sum,datat)) #Antal Blocks", 
      "", 
      "print(\"A og B\")", 
      "print(a,b)", 
      "", 
      "sums = np.array(map(sum,data))", 
      "sumsq = map(sum,map(np.square,data))", 
      "", 
      "sumst = np.array(map(sum,datat))", 
      "sumsqt = map(sum,map(np.square,datat))", 
      "", 
      "ns = map(size,data)", 
      "", 
      "C=(sum(sums)**2)/(a*b)", 
      "", 
      "SST = sum(sumsq)-C", 
      "SSTr = sum(np.divide(sums**2,b))-C", 
      "SSBl = sum(np.divide(sumst**2,a))-C", 
      "", 
      "print(SSBl)", 
      "", 
      "SSE = SST-SSTr-SSBl", 
      "", 
      "FTr = (SSTr/(a-1.)) / (SSE/((a-1)*(b-1)))", 
      "FBl = (SSBl/(b-1.)) / (SSE/((a-1)*(b-1)))", 
      "", 
      "print(\"F-v\u00e6rdier\")", 
      "print(FTr,FBl)", 
      "", 
      "konf=0.99", 
      "", 
      "", 
      "pTr = 1- st.f.cdf(FTr,a-1,(a-1)*(b-1))", 
      "pBl = 1- st.f.cdf(FBl,b-1,(a-1)*(b-1))", 
      "print(\"P-v\u00e6rdier\")", 
      "print(pTr,pBl)", 
      "print(\"forkast 0? (Treatment, Block)\")", 
      "print(pTr<1-(konf),pBl<1-(konf))", 
      "", 
      "kritTr=st.f.ppf(konf,a-1,(a-1)*(b-1))", 
      "kritBl=st.f.ppf(konf,b-1,(a-1)*(b-1))", 
      "", 
      "", 
      "print(\"Testst\u00f8rrelse vs Kritisk v\u00e6rdi (treatment)\")", 
      "print(FTr,kritTr)", 
      "print(\"Testst\u00f8rrelse vs Kritisk v\u00e6rdi (block)\")", 
      "print(FBl,kritBl)"
     ], 
     "language": "python", 
     "outputs": [
      {
       "output_type": "stream", 
       "stream": "stdout", 
       "text": [
        "A og B", 
        "(3, 5)", 
        "1117.26266667", 
        "F-v\u00e6rdier", 
        "(4.8397790055248322, 101.74816343877188)", 
        "P-v\u00e6rdier", 
        "(0.041925121914063057, 6.7985839091733169e-07)", 
        "forkast 0? (Treatment, Block)", 
        "(False, True)", 
        "Testst\u00f8rrelse vs Kritisk v\u00e6rdi (treatment)", 
        "(4.8397790055248322, 8.6491106406735145)", 
        "Testst\u00f8rrelse vs Kritisk v\u00e6rdi (block)", 
        "(101.74816343877188, 7.0060766229555869)"
       ]
      }
     ], 
     "prompt_number": 38
    }, 
    {
     "cell_type": "code", 
     "collapsed": false, 
     "input": [
      "# Table thingy - No idea what the fuck this is!", 
      "", 
      "datapct=np.array(((0.072,0.052,0.012),(0.28,0.14,0.208),(0.088,0.048,0.1)))", 
      "data = datapct*250", 
      "", 
      "a=data[0].size", 
      "b=data.size/a", 
      "", 
      "konf=.99", 
      "", 
      "st.chi2.ppf(konf,(a-1)*(b-1))", 
      "", 
      ""
     ], 
     "language": "python", 
     "outputs": [
      {
       "output_type": "pyout", 
       "prompt_number": 39, 
       "text": [
        "13.276704135987623"
       ]
      }
     ], 
     "prompt_number": 39
    }, 
    {
     "cell_type": "code", 
     "collapsed": true, 
     "input": [], 
     "language": "python", 
     "outputs": [], 
     "prompt_number": 39
    }
   ]
  }
 ]
}