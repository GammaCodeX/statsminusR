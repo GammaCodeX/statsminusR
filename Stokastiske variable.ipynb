{
 "metadata": {
  "name": "Stokastiske variable"
 }, 
 "nbformat": 2, 
 "worksheets": [
  {
   "cells": [
    {
     "cell_type": "code", 
     "collapsed": false, 
     "input": [
      "%pylab inline"
     ], 
     "language": "python", 
     "outputs": [
      {
       "output_type": "stream", 
       "stream": "stdout", 
       "text": [
        "", 
        "Welcome to pylab, a matplotlib-based Python environment [backend: module://IPython.zmq.pylab.backend_inline].", 
        "For more information, type 'help(pylab)'."
       ]
      }
     ], 
     "prompt_number": 1
    }, 
    {
     "cell_type": "code", 
     "collapsed": true, 
     "input": [
      "import pandas as pa"
     ], 
     "language": "python", 
     "outputs": [], 
     "prompt_number": 2
    }, 
    {
     "cell_type": "code", 
     "collapsed": true, 
     "input": [
      "import numpy as np"
     ], 
     "language": "python", 
     "outputs": [], 
     "prompt_number": 4
    }, 
    {
     "cell_type": "markdown", 
     "source": [
      "Diskrete: variablen har bestemte v\u00e6rdier  fx heltal eller navne", 
      "", 
      "Kontinuerte: Variablen er kontinuert, fx priser l\u00e6ngder eller decimaltal.", 
      "", 
      "Fordelingsfunktionen for en stokastisk variabel betegnes ved F(x)", 
      "", 
      "Fordelingsfunktionen er den kumulerede t\u00e6thedsfunktion,", 
      "", 
      "F(x) = sum(t=-inf,x,f(t))", 
      "", 
      "Man kan regne tilbage til t\u00e6thedsfunktionen (kun for heltal) ved", 
      "", 
      "f(n) = F(n)-F(n-1)"
     ]
    }, 
    {
     "cell_type": "markdown", 
     "source": []
    }, 
    {
     "cell_type": "code", 
     "collapsed": true, 
     "input": [], 
     "language": "python", 
     "outputs": []
    }
   ]
  }
 ]
}