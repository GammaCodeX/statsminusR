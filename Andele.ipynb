{
 "metadata": {
  "name": "Andele"
 }, 
 "nbformat": 2, 
 "worksheets": [
  {
   "cells": [
    {
     "cell_type": "code", 
     "collapsed": false, 
     "input": [
      "%pylab inline", 
      "import numpy as np", 
      "import scipy.stats as st"
     ], 
     "language": "python", 
     "outputs": [
      {
       "output_type": "stream", 
       "stream": "stdout", 
       "text": [
        "", 
        "Welcome to pylab, a matplotlib-based Python environment [backend: module://IPython.zmq.pylab.backend_inline].", 
        "For more information, type 'help(pylab)'."
       ]
      }
     ], 
     "prompt_number": 1
    }, 
    {
     "cell_type": "markdown", 
     "source": [
      "Antallet af test der er brug for kan udregnes s\u00e5ledes:", 
      "", 
      "n = p*(p-1)*(z(a/2)/E)\u00b2", 
      "", 
      "givet en andel (p) og en fejlmarign E", 
      "", 
      "for eksempel:", 
      "", 
      "A type of screens has been arround 10% defective items. (p=0.1)", 
      "A sub-contractor is asked to supply a 95% confidence interval (konf = 0.95)", 
      "for the proportion of defectives not exceeding \u00b1 1%poit (E=0.01)", 
      "How many items should be supplied?"
     ]
    }, 
    {
     "cell_type": "code", 
     "collapsed": false, 
     "input": [
      "p=.1", 
      "k=.95", 
      "E=.01", 
      "", 
      "p*(1-p)*(st.norm.ppf(1-(1-k)/2)/E)**2"
     ], 
     "language": "python", 
     "outputs": [
      {
       "output_type": "pyout", 
       "prompt_number": 6, 
       "text": [
        "3457.3129386247128"
       ]
      }
     ], 
     "prompt_number": 6
    }, 
    {
     "cell_type": "code", 
     "collapsed": true, 
     "input": [], 
     "language": "python", 
     "outputs": []
    }
   ]
  }
 ]
}