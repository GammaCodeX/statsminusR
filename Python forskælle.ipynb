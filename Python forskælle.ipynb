{
 "metadata": {
  "name": "Python forsk\u00e6lle"
 }, 
 "nbformat": 2, 
 "worksheets": [
  {
   "cells": [
    {
     "cell_type": "code", 
     "collapsed": false, 
     "input": [
      "%pylab inline", 
      "import scipy.stats as st", 
      "import numpy as np"
     ], 
     "language": "python", 
     "outputs": [
      {
       "output_type": "stream", 
       "stream": "stdout", 
       "text": [
        "", 
        "Welcome to pylab, a matplotlib-based Python environment [backend: module://IPython.zmq.pylab.backend_inline].", 
        "For more information, type 'help(pylab)'."
       ]
      }
     ], 
     "prompt_number": 1
    }, 
    {
     "cell_type": "markdown", 
     "source": [
      "Ved analyse af arrays, brug IKKE kun var og std. Python bruger en anden konvention, s\u00e5 normaliseringen er anderledes end R's", 
      "", 
      "I stedet brug f\u00f8lgende"
     ]
    }, 
    {
     "cell_type": "code", 
     "collapsed": false, 
     "input": [
      "ar = np.array([1,2,3,4,5])", 
      "", 
      "varians = np.var(ar)*ar.size/(ar.size-1)", 
      "", 
      "print(varians)"
     ], 
     "language": "python", 
     "outputs": [
      {
       "output_type": "stream", 
       "stream": "stdout", 
       "text": [
        "2.5"
       ]
      }
     ], 
     "prompt_number": 2
    }, 
    {
     "cell_type": "code", 
     "collapsed": true, 
     "input": [], 
     "language": "python", 
     "outputs": []
    }
   ]
  }
 ]
}