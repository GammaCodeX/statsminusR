{
 "metadata": {
  "name": "Korrelation - Regression"
 }, 
 "nbformat": 2, 
 "worksheets": [
  {
   "cells": [
    {
     "cell_type": "code", 
     "collapsed": false, 
     "input": [
      "%pylab inline", 
      "import scipy.stats as st", 
      "import numpy as np", 
      "import matplotlib.pyplot as plot"
     ], 
     "language": "python", 
     "outputs": [
      {
       "output_type": "stream", 
       "stream": "stdout", 
       "text": [
        "", 
        "Welcome to pylab, a matplotlib-based Python environment [backend: module://IPython.zmq.pylab.backend_inline].", 
        "For more information, type 'help(pylab)'."
       ]
      }
     ], 
     "prompt_number": 109
    }, 
    {
     "cell_type": "markdown", 
     "source": [
      "r (rho teoretisk) er den line\u00e6re korelation i data (korelationskoefficienten). r er positiv hvis h\u00e6ldningen p\u00e5 tendenslinien er positiv, og negativ hvis h\u00e6ldningen er negativ. Den numeriske v\u00e6rdi viser afvigelse fra line\u00e6r sammenh\u00e6ng, s\u00e5ledes at |r| = 1 er at linien passer perfekt p\u00e5 data, og nummerisk lavere r er mindre korelation."
     ]
    }, 
    {
     "cell_type": "markdown", 
     "source": [
      "Mindste kvadraters metode:", 
      "", 
      "Find alfa (y-sk\u00e6ring) og beta (h\u00e6ldning) s\u00e5ledes:", 
      "", 
      "For hvert punk beregnes epsilon\u00b2 (kvadratet p\u00e5 afvigelsen) vi definerer:", 
      "", 
      "Sxx = sum(i=1..n,(xi-x)\u00b2)", 
      "", 
      "Syy = sum(i=1..n,(yi-y)\u00b2)", 
      "", 
      "Sxy = sum(i=1..n,(xi-x)(yi-y))", 
      "", 
      "S\u00e5 kan beregnes:", 
      "", 
      "b=Sxy/Sxx", 
      "", 
      "a=y-b*x", 
      "", 
      "x og y er gennemsnit, og xi,yi er et sammenh\u00e6ngende datas\u00e6t (punkt)"
     ]
    }, 
    {
     "cell_type": "markdown", 
     "source": [
      "Vi antager data kan beskrives ved Yi = a + b*x+e (almindelig line\u00e6r)", 
      "", 
      "det antages at ei er ufah\u00e6ngige normalfordelte normaltfordelte stokastiske variable m midel e=0 og var sig\u00b2", 
      "", 
      "sig\u00b2 = (Syy-(sxy)\u00b2/sxx)/(n-2)"
     ]
    }, 
    {
     "cell_type": "markdown", 
     "source": [
      "Testst\u00f8rrelse for a : t= ((a-a0)/se)*sqrt((nSxx)/(Sxx+n(x)\u00b2)", 
      "", 
      "testst\u00f8rrelse for b : t= ((b-b0)/se)*sqrt(Sxx)"
     ]
    }, 
    {
     "cell_type": "markdown", 
     "source": [
      "Konfidensinterval for linien: (a+b*x0) \u00b1 t(a/2)*se*sqrt(1/n+(x0-x)\u00b2/Sxx))", 
      "", 
      "Pr\u00e6diktionsinterval for linien: (a+b*x0) \u00b1 t(a/2)*se*sqrt(1+1/n+(x0-x)\u00b2/Sxx)"
     ]
    }, 
    {
     "cell_type": "markdown", 
     "source": [
      "r\u00b2 = (sxx/syy)*b\u00b2 ( r = (sqrt(Sxx)/sqrt(Syy))*b"
     ]
    }, 
    {
     "cell_type": "code", 
     "collapsed": false, 
     "input": [
      "x=np.array((2,7,9,1,5,12))", 
      "y=np.array((13,21,23,14,15,21))", 
      "", 
      "", 
      "b = st.linregress(x,y)[0]", 
      "a = st.linregress(x,y)[1]", 
      "p = st.linregress(x,y)[2]", 
      "r = st.linregress(x,y)[3]", 
      "std=st.linregress(x,y)[4]", 
      "print(a,b,p,r,std)"
     ], 
     "language": "python", 
     "outputs": [
      {
       "output_type": "stream", 
       "stream": "stdout", 
       "text": [
        "(12.446969696969695, 0.89772727272727271, 0.87404497999848485, 0.022797883366717685, 0.24950450207656336)"
       ]
      }
     ], 
     "prompt_number": 110
    }, 
    {
     "cell_type": "code", 
     "collapsed": false, 
     "input": [], 
     "language": "python", 
     "outputs": [
      {
       "output_type": "pyout", 
       "prompt_number": 111, 
       "text": [
        "[<matplotlib.lines.Line2D at 0xb74bdcc>]"
       ]
      }, 
      {
       "output_type": "display_data", 
       "png": "[encoded data removed]"
      }
     ], 
     "prompt_number": 111
    }, 
    {
     "cell_type": "code", 
     "collapsed": false, 
     "input": [
      "x=np.array((1,2))", 
      "y=np.array((1,2))", 
      "", 
      "sxx =np.sum((x-np.mean(x))**2)", 
      "syy =np.sum((y-np.mean(y))**2)", 
      "sxy =np.sum((x-np.mean(x))*(y-np.mean(y)))", 
      "", 
      "n = x.size", 
      "b = sxy/sxx", 
      "a = np.mean(y) - b*np.mean(x)", 
      "", 
      "sesq = (syy-(sxy)**2/sxx)/(x.size-2)", 
      "se=sqrt(sesq)", 
      "", 
      "plot.plot(x,y,'ro')", 
      "", 
      "conf=0.95", 
      "", 
      "konfafva = st.t.ppf(1-(1-conf)/2,n-1)*se*sqrt(1/n+np.mean(x)**2/sxx)", 
      "print(\"konfidensinterval for a\")", 
      "print(a-konfafva,a+konfafva)", 
      "", 
      "print(\"konfidensinterval for b\")", 
      "konfafvb = st.t.ppf(1-(1-conf)/2,n-1)*se*1/sqrt(sxx)", 
      "bmin=b-konfafvb", 
      "bmax=b+konfafvb", 
      "print(bmin,bmax)", 
      "", 
      "", 
      "conf=0.95", 
      "x0=8", 
      "maxpred=st.t.ppf(1-(1-conf)/2,x.size-1)*se*sqrt(1+1/x.size+(x0-np.mean(x))**2/sxx)", 
      "print(\"Prediktionsinterval for givet x\")", 
      "print(a+b*x0-maxpred,a+b*x0+maxpred)", 
      "", 
      "", 
      "print(\"konfidensinterval for givet x\")", 
      "print(a+x0*bmin,a+x0*bmax)", 
      "", 
      "b0=1.2", 
      "btest = (b-b0)/se*sqrt(sxx)", 
      "bkrit = st.t.ppf((1-conf),n-2) #redig\u00e9r testst\u00f8rrelse efter nulhypotesen", 
      "print(\"b teststorrelse\",\"b kritisk verdi\")", 
      "print(btest,bkrit)"
     ], 
     "language": "python", 
     "outputs": [
      {
       "output_type": "stream", 
       "stream": "stderr", 
       "text": [
        "-c:9: RuntimeWarning: invalid value encountered in double_scalars", 
        "-c:12: RuntimeWarning: invalid value encountered in double_scalars", 
        "-c:19: RuntimeWarning: divide by zero encountered in double_scalars"
       ]
      }, 
      {
       "output_type": "stream", 
       "stream": "stdout", 
       "text": [
        "konfidensinterval for a", 
        "(nan, nan)", 
        "konfidensinterval for b", 
        "(nan, nan)", 
        "Prediktionsinterval for givet x", 
        "(nan, nan)", 
        "konfidensinterval for givet x", 
        "(nan, nan)", 
        "('b teststorrelse', 'b kritisk verdi')", 
        "(nan, nan)"
       ]
      }, 
      {
       "output_type": "stream", 
       "stream": "stderr", 
       "text": [
        "-c:32: RuntimeWarning: divide by zero encountered in double_scalars"
       ]
      }, 
      {
       "output_type": "display_data", 
       "png": "[encoded data removed]"
      }
     ], 
     "prompt_number": 119
    }, 
    {
     "cell_type": "code", 
     "collapsed": false, 
     "input": [], 
     "language": "python", 
     "outputs": [
      {
       "output_type": "pyout", 
       "prompt_number": 114, 
       "text": [
        "-229.70681402212441"
       ]
      }
     ], 
     "prompt_number": 114
    }, 
    {
     "cell_type": "code", 
     "collapsed": true, 
     "input": [], 
     "language": "python", 
     "outputs": []
    }
   ]
  }
 ]
}