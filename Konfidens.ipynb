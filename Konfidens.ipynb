{
 "metadata": {
  "name": "Konfidens"
 }, 
 "nbformat": 2, 
 "worksheets": [
  {
   "cells": [
    {
     "cell_type": "code", 
     "collapsed": false, 
     "input": [
      "%pylab inline", 
      "import scipy.stats as stats"
     ], 
     "language": "python", 
     "outputs": [
      {
       "output_type": "stream", 
       "stream": "stdout", 
       "text": [
        "", 
        "Welcome to pylab, a matplotlib-based Python environment [backend: module://IPython.zmq.pylab.backend_inline].", 
        "For more information, type 'help(pylab)'."
       ]
      }
     ], 
     "prompt_number": 2
    }, 
    {
     "cell_type": "markdown", 
     "source": [
      "E(a) = Z(a/2) * (sigma/n\u00b2)", 
      "", 
      "Hvor E(a) er konfidens (hvor sikker beregningen er) og n er stikpr\u00f8vens st\u00f8rrelse", 
      "Z(a/2) findes ved stats.norm.cdf(a/2.)"
     ]
    }, 
    {
     "cell_type": "markdown", 
     "source": [
      "Hvis variansen (sigma) ikke er kendt beregnes den ved", 
      "S=1/(n-1) * sum(i=1..n,(Xi-X)\u00b2)"
     ]
    }, 
    {
     "cell_type": "markdown", 
     "source": [
      "t=(X-\u00b5)/(S/sqrt(n)) - T benyttes for sm\u00e5 stikpr\u00f8ver"
     ]
    }, 
    {
     "cell_type": "markdown", 
     "source": [
      "eks:", 
      "", 
      "Med de nye justeringer udf\u00f8res 16 fors\u00f8g. Fra disse estimeres s\u00b2=0.25", 
      "", 
      "Bestem den maksimale fejl, E(0.95) (95% sandsynlighed)", 
      "", 
      "E(0.95) = t(sigma/2)(15)*0.25/sqrt(16)"
     ]
    }, 
    {
     "cell_type": "code", 
     "collapsed": false, 
     "input": [], 
     "language": "python", 
     "outputs": [
      {
       "output_type": "pyout", 
       "prompt_number": 5, 
       "text": [
        "0.031862983707731461"
       ]
      }
     ], 
     "prompt_number": 5
    }, 
    {
     "cell_type": "code", 
     "collapsed": true, 
     "input": [], 
     "language": "python", 
     "outputs": []
    }
   ]
  }
 ]
}