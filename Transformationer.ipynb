{
 "metadata": {
  "name": "Transformationer"
 }, 
 "nbformat": 2, 
 "worksheets": [
  {
   "cells": [
    {
     "cell_type": "code", 
     "collapsed": false, 
     "input": [
      "%pylab inline"
     ], 
     "language": "python", 
     "outputs": [
      {
       "output_type": "stream", 
       "stream": "stdout", 
       "text": [
        "", 
        "Welcome to pylab, a matplotlib-based Python environment [backend: module://IPython.zmq.pylab.backend_inline].", 
        "For more information, type 'help(pylab)'."
       ]
      }
     ], 
     "prompt_number": 1
    }, 
    {
     "cell_type": "code", 
     "collapsed": true, 
     "input": [
      "import scipy.stats as stats"
     ], 
     "language": "python", 
     "outputs": [], 
     "prompt_number": 2
    }, 
    {
     "cell_type": "markdown", 
     "source": [
      "Hvis data ikke er normalfordelt kan det ofte transformeres:", 
      "", 
      "Store v\u00e6rdier mindre:", 
      "", 
      "-1/x", 
      "", 
      "ln(x)", 
      "", 
      "x\u207d\u00b9/\u2074\u207e", 
      "", 
      "sqrt(x)", 
      "", 
      "Store v\u00e6rdier st\u00f8rre:", 
      "", 
      "x\u00b2", 
      "", 
      "x\u00b3"
     ]
    }, 
    {
     "cell_type": "markdown", 
     "source": [
      "For at kontrollere/unders\u00f8ge at data er normaltfordelte kan bruges:", 
      "", 
      "Histogram", 
      "", 
      "(boxplot?)", 
      "", 
      "eller et normalplot:", 
      "", 
      "Data i sorteret r\u00e6kkef\u00f8lge (nondecreasing) (x1 x2 x3... xn)", 
      "", 
      "Beregn z-score (fraktiler) (z1/n z2/n ... z1) ", 
      "", 
      "Plot (x,z)", 
      "", 
      "Ligner det en ret linie?"
     ]
    }
   ]
  }
 ]
}